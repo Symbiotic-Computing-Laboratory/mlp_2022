{
 "cells": [
  {
   "cell_type": "markdown",
   "metadata": {},
   "source": [
    "# Regularization\n",
    "\n",
    "## Module 7: Regularization\n",
    "\n",
    "Author: Andrew H. Fagg (andrewhfagg@gmail.com)\n"
   ]
  },
  {
   "cell_type": "code",
   "execution_count": null,
   "metadata": {},
   "outputs": [],
   "source": [
    "import pandas as pd\n",
    "import numpy as np\n",
    "import os\n",
    "import fnmatch\n",
    "import matplotlib.pyplot as plt\n",
    "from sklearn.preprocessing import StandardScaler, PolynomialFeatures\n",
    "from sklearn.model_selection import cross_val_score\n",
    "from sklearn.model_selection import cross_val_predict\n",
    "from sklearn.metrics import mean_squared_error\n",
    "from sklearn.linear_model import LinearRegression\n",
    "from sklearn.linear_model import Ridge\n",
    "from sklearn.linear_model import Lasso\n",
    "from sklearn.linear_model import ElasticNet\n",
    "from sklearn.linear_model import SGDRegressor\n",
    "from sklearn.ensemble import GradientBoostingRegressor\n",
    "import pickle\n",
    "\n",
    "##################\n",
    "# Default figure parameters\n",
    "plt.rcParams['figure.figsize'] = (10,5)\n",
    "plt.rcParams['font.size'] = 12\n",
    "plt.rcParams['legend.fontsize'] = 10\n",
    "plt.rcParams['xtick.labelsize'] = 10\n",
    "plt.rcParams['ytick.labelsize'] = 10\n",
    "plt.rcParams['figure.constrained_layout.use'] = True\n",
    "plt.rcParams['axes.titlesize'] = 18\n",
    "plt.rcParams['axes.labelsize'] = 12"
   ]
  },
  {
   "cell_type": "code",
   "execution_count": null,
   "metadata": {},
   "outputs": [],
   "source": [
    "# Mount your Google Drive into the local virtual machine file system (will give a warning if already mounted)\n",
    "# If asked, follow the directions to authenticate with your Google Drive\n",
    "from google.colab import drive\n",
    "drive.mount('/content/drive')"
   ]
  },
  {
   "cell_type": "code",
   "execution_count": null,
   "metadata": {},
   "outputs": [],
   "source": [
    "# Local file location\n",
    "#fname = '/home/fagg/datasets/bmi/bmi_dataset.pkl'\n",
    "# Google Drive location\n",
    "fname = '/content/drive/MyDrive/MLP_2021/datasets/bmi_dataset.pkl'\n",
    "\n",
    "# Open the file and load the data object\n",
    "fp = open(fname, \"rb\")\n",
    "obj = pickle.load(fp)\n",
    "fp.close()"
   ]
  },
  {
   "cell_type": "code",
   "execution_count": null,
   "metadata": {},
   "outputs": [],
   "source": [
    "def my_eval(outs, pred):\n",
    "    mse = np.sum(np.square(outs - pred)) / outs.shape[0]\n",
    "    rmse = np.sqrt(mse)\n",
    "    return mse, rmse, rmse * 180 / np.pi"
   ]
  },
  {
   "cell_type": "code",
   "execution_count": null,
   "metadata": {},
   "outputs": [],
   "source": [
    "# Extract the different types of data from the dataset\n",
    "MI_folds = obj['MI']\n",
    "theta_folds = obj['theta']\n",
    "dtheta_folds = obj['dtheta']\n",
    "torque_folds = obj['torque']\n",
    "time_folds = obj['time']"
   ]
  },
  {
   "cell_type": "code",
   "execution_count": null,
   "metadata": {},
   "outputs": [],
   "source": [
    "# Extract shoulder position\n",
    "outs = theta_folds[0][:,0]\n",
    "ins = MI_folds[0]\n",
    "tm = time_folds[0]"
   ]
  },
  {
   "cell_type": "code",
   "execution_count": null,
   "metadata": {},
   "outputs": [],
   "source": []
  }
 ],
 "metadata": {
  "kernelspec": {
   "display_name": "Python 3 (ipykernel)",
   "language": "python",
   "name": "python3"
  },
  "language_info": {
   "codemirror_mode": {
    "name": "ipython",
    "version": 3
   },
   "file_extension": ".py",
   "mimetype": "text/x-python",
   "name": "python",
   "nbconvert_exporter": "python",
   "pygments_lexer": "ipython3",
   "version": "3.10.6"
  }
 },
 "nbformat": 4,
 "nbformat_minor": 4
}
