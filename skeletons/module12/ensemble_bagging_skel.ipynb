{
 "cells": [
  {
   "cell_type": "markdown",
   "metadata": {},
   "source": [
    "# Machine Learning Practice\n",
    "## Module 12: Ensemble Methods: Bagging\n",
    "\n",
    "Andrew H. Fagg (andrewhfagg@gmail.com)"
   ]
  },
  {
   "cell_type": "code",
   "execution_count": null,
   "metadata": {},
   "outputs": [],
   "source": [
    "%reload_ext autoreload\n",
    "%autoreload 2\n",
    "%matplotlib inline\n",
    "\n",
    "import pandas as pd\n",
    "import numpy as np\n",
    "import re\n",
    "import matplotlib.pyplot as plt\n",
    "from sklearn.pipeline import Pipeline\n",
    "from sklearn.preprocessing import StandardScaler\n",
    "from sklearn.model_selection import cross_val_score\n",
    "from sklearn.model_selection import cross_val_predict\n",
    "from sklearn.metrics import mean_squared_error\n",
    "from sklearn.metrics import confusion_matrix\n",
    "from sklearn.metrics import log_loss\n",
    "from sklearn.metrics import roc_curve, auc\n",
    "from sklearn.base import BaseEstimator, TransformerMixin\n",
    "from sklearn.linear_model import SGDClassifier, LogisticRegression\n",
    "from sklearn.ensemble import RandomForestClassifier\n",
    "from sklearn.svm import SVC\n",
    "from sklearn.tree import DecisionTreeClassifier\n",
    "from sklearn.tree import DecisionTreeRegressor, export_graphviz\n",
    "from sklearn.ensemble import RandomForestClassifier\n",
    "from sklearn.ensemble import VotingClassifier, BaggingClassifier\n",
    "\n",
    "import pickle as pkl\n",
    "\n",
    "# Default figure parameters\n",
    "plt.rcParams['figure.figsize'] = (5,5)\n",
    "plt.rcParams['font.size'] = 10\n",
    "plt.rcParams['legend.fontsize'] = 10\n",
    "plt.rcParams['xtick.labelsize'] = 10\n",
    "plt.rcParams['ytick.labelsize'] = 10\n",
    "plt.rcParams['figure.constrained_layout.use'] = True\n",
    "plt.rcParams['axes.titlesize'] = 14\n",
    "plt.rcParams['axes.labelsize'] = 12"
   ]
  },
  {
   "cell_type": "code",
   "execution_count": null,
   "metadata": {},
   "outputs": [],
   "source": [
    "# Mount Google Drive\n",
    "from google.colab import drive\n",
    "drive.mount('/content/drive')"
   ]
  },
  {
   "cell_type": "code",
   "execution_count": null,
   "metadata": {},
   "outputs": [],
   "source": [
    "def scatter_plot(ins, outs, ins2=None, outs2=None):\n",
    "    '''\n",
    "    Generate a colored scatter plot of feature points.  Color is determined by\n",
    "    the label.  The first set of features are plotted as dots; the second set\n",
    "    (if provided) is plotted as circles.\n",
    "    \n",
    "    @param ins Nx2 matrix of 2D feature vectors\n",
    "    @param outs N vector of binary labels\n",
    "    @param ins2 Nx2 matrix of 2D feature vectors\n",
    "    @param outs2 N vector of binary labels\n",
    "    '''\n",
    "    elems_true = np.where(outs == 1)[0]\n",
    "    elems_false = np.where(outs == 0)[0]\n",
    "    \n",
    "    fig, ax = plt.subplots()\n",
    "    ax.plot(ins[elems_true,0], ins[elems_true,1], 'r.')\n",
    "    ax.plot(ins[elems_false,0], ins[elems_false,1], 'g.')\n",
    "    \n",
    "    if ins2 is not None:\n",
    "        elems_true = np.where(outs2 == 1)[0]\n",
    "        elems_false = np.where(outs2 == 0)[0]\n",
    "        ax.plot(ins2[elems_true,0], ins2[elems_true,1], 'ro')\n",
    "        ax.plot(ins2[elems_false,0], ins2[elems_false,1], 'go')\n",
    "    fig.legend(['Positive', 'Negative'], fontsize=18)\n",
    "    plt.xlabel('x[0]')\n",
    "    plt.ylabel('x[1]')"
   ]
  },
  {
   "cell_type": "code",
   "execution_count": null,
   "metadata": {},
   "outputs": [],
   "source": [
    "def plot_probs(outs, proba):\n",
    "    '''\n",
    "    Generate a cumulative distribution figure and an ROC figure\n",
    "    \n",
    "    :param outs: N-vector of true labels (0 or 1)\n",
    "    :param proba: Nx2 matrix of predicted probabilities for class 1 and 0, respectively\n",
    "    '''\n",
    "    pred = proba[:,0] >= 0.5\n",
    "    confusion = confusion_matrix(outs, pred)\n",
    "    print(\"Confusion:\", confusion)\n",
    "    \n",
    "    # Evaluate\n",
    "    print(\"log loss: \", log_loss(outs, proba))\n",
    "    \n",
    "    # TPR/FPR plot\n",
    "    fpr, tpr, thresholds = roc_curve(outs, proba[:,0])\n",
    "    fig, ax = plt.subplots()\n",
    "    ax.plot(thresholds, tpr, color='b')\n",
    "    ax.plot(thresholds, fpr, color='r')\n",
    "    ax.plot(thresholds, tpr - fpr, color='g')\n",
    "    ax.invert_xaxis()\n",
    "    ax.set_xlabel('threshold')\n",
    "    ax.set_ylabel('fraction')\n",
    "    ax.legend(['TPR', 'FPR', 'distance'])\n",
    "    \n",
    "    # ROC plot\n",
    "    fig, ax = plt.subplots()\n",
    "    ax.plot(fpr, tpr, color='b')\n",
    "    ax.plot([0,1], [0,1], 'r--')\n",
    "    ax.set_xlabel('FPR')\n",
    "    ax.set_ylabel('TPR')\n",
    "    ax.set_aspect('equal', 'box')\n",
    "    print(\"AUC:\", auc(fpr, tpr))"
   ]
  },
  {
   "cell_type": "markdown",
   "metadata": {},
   "source": [
    "## Load Data"
   ]
  },
  {
   "cell_type": "code",
   "execution_count": null,
   "metadata": {},
   "outputs": [],
   "source": [
    "#fname = 'ensemble_data.pkl'\n",
    "fname = '/content/drive/MyDrive/MLP_2022/datasets/ensemble_data.pkl'\n",
    "fp = open(fname, 'rb')\n",
    "ins = pkl.load(fp)\n",
    "outs = pkl.load(fp)\n",
    "fp.close()"
   ]
  },
  {
   "cell_type": "code",
   "execution_count": null,
   "metadata": {},
   "outputs": [],
   "source": [
    "N_training = 200\n",
    "ins1 = ins[:N_training,:]\n",
    "outs1 = outs[:N_training]\n",
    "ins2 = ins[N_training:,:]\n",
    "outs2 = outs[N_training:]\n",
    "scatter_plot(ins1, outs1, ins2, outs2)"
   ]
  },
  {
   "cell_type": "markdown",
   "metadata": {},
   "source": [
    "## Create Classifier Ensemble\n"
   ]
  },
  {
   "cell_type": "code",
   "execution_count": null,
   "metadata": {},
   "outputs": [],
   "source": [
    "# Individual First\n",
    "classifier1 = DecisionTreeClassifier(max_leaf_nodes=3)\n",
    "\n",
    "classifier1.fit(ins1,outs1)\n",
    "pred1 = classifier1.predict(ins1)\n",
    "pred2 = classifier1.predict(ins2)\n",
    "scatter_plot(ins1,pred1,ins2,pred2)\n",
    "classifier1.score(ins2, outs2)"
   ]
  },
  {
   "cell_type": "code",
   "execution_count": null,
   "metadata": {},
   "outputs": [],
   "source": [
    "# Bagging\n",
    "bagging_classifier = "
   ]
  },
  {
   "cell_type": "markdown",
   "metadata": {},
   "source": [
    "## SVC Example"
   ]
  },
  {
   "cell_type": "code",
   "execution_count": null,
   "metadata": {},
   "outputs": [],
   "source": [
    "classifier1 = SVC(kernel='poly', C=100.0, degree=3, gamma='auto')\n",
    "\n",
    "classifier1.fit(ins1,outs1)\n",
    "pred1 = classifier1.predict(ins1)\n",
    "pred2 = classifier1.predict(ins2)\n",
    "scatter_plot(ins1,pred1,ins2,pred2)\n",
    "classifier1.score(ins2, outs2)"
   ]
  },
  {
   "cell_type": "code",
   "execution_count": null,
   "metadata": {},
   "outputs": [],
   "source": [
    "# Bagging\n",
    "bagging_classifier = "
   ]
  },
  {
   "cell_type": "code",
   "execution_count": null,
   "metadata": {},
   "outputs": [],
   "source": []
  }
 ],
 "metadata": {
  "kernelspec": {
   "display_name": "Python 3 (ipykernel)",
   "language": "python",
   "name": "python3"
  },
  "language_info": {
   "codemirror_mode": {
    "name": "ipython",
    "version": 3
   },
   "file_extension": ".py",
   "mimetype": "text/x-python",
   "name": "python",
   "nbconvert_exporter": "python",
   "pygments_lexer": "ipython3",
   "version": "3.10.6"
  }
 },
 "nbformat": 4,
 "nbformat_minor": 4
}
