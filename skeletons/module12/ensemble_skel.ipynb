{
 "cells": [
  {
   "cell_type": "markdown",
   "metadata": {},
   "source": [
    "# Machine Learning Practice\n",
    "## Module 12: Ensemble Methods\n",
    "\n",
    "Andrew H. Fagg (andrewhfagg@gmail.com)"
   ]
  },
  {
   "cell_type": "code",
   "execution_count": null,
   "metadata": {},
   "outputs": [],
   "source": [
    "%reload_ext autoreload\n",
    "%autoreload 2\n",
    "%matplotlib inline\n",
    "\n",
    "import pandas as pd\n",
    "import numpy as np\n",
    "import re\n",
    "import matplotlib.pyplot as plt\n",
    "from sklearn.pipeline import Pipeline\n",
    "from sklearn.preprocessing import StandardScaler\n",
    "from sklearn.model_selection import cross_val_score\n",
    "from sklearn.model_selection import cross_val_predict\n",
    "from sklearn.metrics import mean_squared_error\n",
    "from sklearn.metrics import confusion_matrix\n",
    "from sklearn.metrics import log_loss\n",
    "from sklearn.metrics import roc_curve, auc\n",
    "from sklearn.base import BaseEstimator, TransformerMixin\n",
    "from sklearn.linear_model import SGDClassifier, LogisticRegression\n",
    "from sklearn.ensemble import RandomForestClassifier\n",
    "from sklearn.svm import SVC\n",
    "from sklearn.tree import DecisionTreeClassifier\n",
    "from sklearn.tree import DecisionTreeRegressor, export_graphviz\n",
    "from sklearn.ensemble import RandomForestClassifier\n",
    "from sklearn.ensemble import VotingClassifier\n",
    "\n",
    "import pickle as pkl\n",
    "\n",
    "# Default figure parameters\n",
    "plt.rcParams['figure.figsize'] = (5,5)\n",
    "plt.rcParams['font.size'] = 10\n",
    "plt.rcParams['legend.fontsize'] = 10\n",
    "plt.rcParams['xtick.labelsize'] = 10\n",
    "plt.rcParams['ytick.labelsize'] = 10\n",
    "plt.rcParams['figure.constrained_layout.use'] = True\n",
    "plt.rcParams['axes.titlesize'] = 14\n",
    "plt.rcParams['axes.labelsize'] = 12\n"
   ]
  },
  {
   "cell_type": "code",
   "execution_count": null,
   "metadata": {},
   "outputs": [],
   "source": [
    "# Mount Google Drive\n",
    "from google.colab import drive\n",
    "drive.mount('/content/drive')"
   ]
  },
  {
   "cell_type": "code",
   "execution_count": null,
   "metadata": {},
   "outputs": [],
   "source": [
    "def scatter_plot(ins, outs, ins2=None, outs2=None):\n",
    "    '''\n",
    "    Generate a scatter plot with points colored by a binary label\n",
    "    \n",
    "    :param ins: Nx2 matrix of 2D samples\n",
    "    :param pred: binary labels for each sample (0 or 1)\n",
    "    '''\n",
    "    \n",
    "    # Identify the labeled trues and falses\n",
    "    elems_true = np.where(outs == 1)[0]\n",
    "    elems_false = np.where(outs == 0)[0]\n",
    "    \n",
    "    # Generate the figure\n",
    "    fig, ax = plt.subplots()\n",
    "    ax.plot(ins[elems_true,0], ins[elems_true,1], 'r.')\n",
    "    ax.plot(ins[elems_false,0], ins[elems_false,1], 'g.')\n",
    "    \n",
    "    if ins2 is not None:\n",
    "        elems_true = np.where(outs2 == 1)[0]\n",
    "        elems_false = np.where(outs2 == 0)[0]\n",
    "        ax.plot(ins2[elems_true,0], ins2[elems_true,1], 'ro')\n",
    "        ax.plot(ins2[elems_false,0], ins2[elems_false,1], 'go')\n",
    "    fig.legend(['Positive', 'Negative'])\n",
    "    plt.xlabel('x[0]')\n",
    "    plt.ylabel('x[1]')"
   ]
  },
  {
   "cell_type": "code",
   "execution_count": null,
   "metadata": {},
   "outputs": [],
   "source": [
    "def plot_probs(outs, proba):\n",
    "    '''\n",
    "    Generate a cumulative distribution figure and an ROC figure\n",
    "    \n",
    "    :param outs: N-vector of true labels (0 or 1)\n",
    "    :param proba: Nx2 matrix of predicted probabilities for class 1 and 0, respectively\n",
    "    '''\n",
    "    \n",
    "    pred = proba[:,0] >= 0.5\n",
    "    confusion = confusion_matrix(outs, pred)\n",
    "    print(\"Confusion:\", confusion)\n",
    "    \n",
    "    # Evaluate\n",
    "    print(\"log loss: \", log_loss(outs, proba))\n",
    "    \n",
    "    # TPR/FPR plot\n",
    "    fpr, tpr, thresholds = roc_curve(outs, proba[:,0])\n",
    "    fig, ax = plt.subplots()\n",
    "    ax.plot(thresholds, tpr, color='b')\n",
    "    ax.plot(thresholds, fpr, color='r')\n",
    "    ax.plot(thresholds, tpr - fpr, color='g')\n",
    "    ax.invert_xaxis()\n",
    "    ax.set_xlabel('threshold')\n",
    "    ax.set_ylabel('fraction')\n",
    "    ax.legend(['TPR', 'FPR', 'distance'])\n",
    "    \n",
    "    # ROC plot\n",
    "    fig, ax = plt.subplots()\n",
    "    ax.plot(fpr, tpr, color='b')\n",
    "    ax.plot([0,1], [0,1], 'r--')\n",
    "    ax.set_xlabel('FPR')\n",
    "    ax.set_ylabel('TPR')\n",
    "    ax.set_aspect('equal', 'box')\n",
    "    print(\"AUC:\", auc(fpr, tpr))"
   ]
  },
  {
   "cell_type": "markdown",
   "metadata": {},
   "source": [
    "## Load Data"
   ]
  },
  {
   "cell_type": "code",
   "execution_count": null,
   "metadata": {},
   "outputs": [],
   "source": [
    "#fname = 'ensemble_data.pkl'\n",
    "fname = '/content/drive/MyDrive/MLP_2022/datasets/ensemble_data.pkl'\n",
    "fp = open(fname, 'rb')\n",
    "ins = pkl.load(fp)\n",
    "outs = pkl.load(fp)\n",
    "fp.close()"
   ]
  },
  {
   "cell_type": "code",
   "execution_count": null,
   "metadata": {},
   "outputs": [],
   "source": [
    "# Split training from validation\n",
    "N_training = 100\n",
    "ins1 = ins[:N_training,:]\n",
    "outs1 = outs[:N_training]\n",
    "ins2 = ins[N_training:,:]\n",
    "outs2 = outs[N_training:]\n",
    "scatter_plot(ins1, outs1, ins2, outs2)"
   ]
  },
  {
   "cell_type": "markdown",
   "metadata": {},
   "source": [
    "## Create Classifier Ensemble"
   ]
  },
  {
   "cell_type": "code",
   "execution_count": null,
   "metadata": {},
   "outputs": [],
   "source": []
  },
  {
   "cell_type": "code",
   "execution_count": null,
   "metadata": {},
   "outputs": [],
   "source": []
  },
  {
   "cell_type": "code",
   "execution_count": null,
   "metadata": {},
   "outputs": [],
   "source": []
  },
  {
   "cell_type": "code",
   "execution_count": null,
   "metadata": {},
   "outputs": [],
   "source": []
  },
  {
   "cell_type": "markdown",
   "metadata": {},
   "source": [
    "## Individual classifiers"
   ]
  },
  {
   "cell_type": "code",
   "execution_count": null,
   "metadata": {},
   "outputs": [],
   "source": []
  },
  {
   "cell_type": "code",
   "execution_count": null,
   "metadata": {},
   "outputs": [],
   "source": []
  },
  {
   "cell_type": "code",
   "execution_count": null,
   "metadata": {},
   "outputs": [],
   "source": []
  },
  {
   "cell_type": "markdown",
   "metadata": {},
   "source": [
    "## Soft voting"
   ]
  },
  {
   "cell_type": "code",
   "execution_count": null,
   "metadata": {},
   "outputs": [],
   "source": []
  },
  {
   "cell_type": "code",
   "execution_count": null,
   "metadata": {},
   "outputs": [],
   "source": []
  },
  {
   "cell_type": "code",
   "execution_count": null,
   "metadata": {},
   "outputs": [],
   "source": []
  },
  {
   "cell_type": "code",
   "execution_count": null,
   "metadata": {},
   "outputs": [],
   "source": []
  }
 ],
 "metadata": {
  "kernelspec": {
   "display_name": "Python 3 (ipykernel)",
   "language": "python",
   "name": "python3"
  },
  "language_info": {
   "codemirror_mode": {
    "name": "ipython",
    "version": 3
   },
   "file_extension": ".py",
   "mimetype": "text/x-python",
   "name": "python",
   "nbconvert_exporter": "python",
   "pygments_lexer": "ipython3",
   "version": "3.10.6"
  }
 },
 "nbformat": 4,
 "nbformat_minor": 4
}
