{
 "cells": [
  {
   "cell_type": "markdown",
   "metadata": {},
   "source": [
    "# Machine Learning Practice\n",
    "## Module 12: Ensembles: Subspaces and Boosting: Baby Example\n",
    "\n",
    "Andrew H. Fagg (andrewhfagg@gmail.com)"
   ]
  },
  {
   "cell_type": "code",
   "execution_count": null,
   "metadata": {},
   "outputs": [],
   "source": [
    "%reload_ext autoreload\n",
    "%autoreload 2\n",
    "%matplotlib inline\n",
    "\n",
    "import pandas as pd\n",
    "import numpy as np\n",
    "import re\n",
    "import matplotlib.pyplot as plt\n",
    "from sklearn.pipeline import Pipeline\n",
    "from sklearn.preprocessing import StandardScaler\n",
    "from sklearn.model_selection import cross_val_score\n",
    "from sklearn.model_selection import cross_val_predict\n",
    "from sklearn.metrics import mean_squared_error\n",
    "from sklearn.metrics import confusion_matrix\n",
    "from sklearn.metrics import log_loss\n",
    "from sklearn.metrics import roc_curve, auc\n",
    "from sklearn.base import BaseEstimator, TransformerMixin\n",
    "from sklearn.linear_model import SGDClassifier, LogisticRegression\n",
    "from sklearn.ensemble import RandomForestClassifier\n",
    "from sklearn.svm import SVC\n",
    "from sklearn.tree import DecisionTreeClassifier\n",
    "from sklearn.tree import DecisionTreeRegressor, export_graphviz\n",
    "from sklearn.ensemble import VotingClassifier, BaggingClassifier, AdaBoostClassifier\n",
    "\n",
    "# Default figure parameters\n",
    "plt.rcParams['figure.figsize'] = (5,5)\n",
    "plt.rcParams['font.size'] = 10\n",
    "plt.rcParams['legend.fontsize'] = 10\n",
    "plt.rcParams['xtick.labelsize'] = 10\n",
    "plt.rcParams['ytick.labelsize'] = 10\n",
    "plt.rcParams['figure.constrained_layout.use'] = True\n",
    "plt.rcParams['axes.titlesize'] = 14\n",
    "plt.rcParams['axes.labelsize'] = 12"
   ]
  },
  {
   "cell_type": "code",
   "execution_count": null,
   "metadata": {},
   "outputs": [],
   "source": [
    "# Mount Google Drive\n",
    "from google.colab import drive\n",
    "drive.mount('/content/drive')"
   ]
  },
  {
   "cell_type": "code",
   "execution_count": null,
   "metadata": {},
   "outputs": [],
   "source": [
    "# From book\n",
    "# Pipeline component: select subsets of attributes\n",
    "class DataFrameSelector(BaseEstimator, TransformerMixin):\n",
    "    def __init__(self, attribs):\n",
    "        self.attribs = attribs\n",
    "    def fit(self, x, y=None):\n",
    "        return self\n",
    "    def transform(self, X):\n",
    "        return X[self.attribs].values\n",
    "\n",
    "# Pipeline component: New transformer class: drop all rows that contain invalid values\n",
    "class DataSampleDropper(BaseEstimator, TransformerMixin):\n",
    "    def __init__(self):\n",
    "        pass\n",
    "    def fit(self, x, y=None):\n",
    "        return self\n",
    "    def transform(self, X):\n",
    "        return X.dropna(how = 'any')\n",
    "\n",
    "# Pipeline component: Compute derivatives\n",
    "class ComputeDerivative(BaseEstimator, TransformerMixin):\n",
    "    def __init__(self, attribs, dt=1.0, prefix='d_'):\n",
    "        self.attribs = attribs\n",
    "        self.dt = dt\n",
    "        self.prefix = prefix\n",
    "    def fit(self, x, y=None):\n",
    "        return self\n",
    "    def transform(self, X):\n",
    "        # Compute derivatives\n",
    "        Xout = X.copy()\n",
    "        for field in self.attribs:\n",
    "            # Extract the values for this field\n",
    "            values = Xout[field].values\n",
    "            # Compute the difference between subsequent values\n",
    "            diff = values[1:] - values[0:-1]\n",
    "            # Bring the length to be the same as original data\n",
    "            np.append(diff, 0)\n",
    "            # Name of the new field\n",
    "            name = self.prefix + field\n",
    "            # 20 ms time step\n",
    "            Xout[name] = pd.Series(diff / self.dt)\n",
    "        return Xout"
   ]
  },
  {
   "cell_type": "code",
   "execution_count": null,
   "metadata": {},
   "outputs": [],
   "source": [
    "## Support for identifying kinematic variable columns\n",
    "def get_kinematic_properties(data):\n",
    "    # Regular expression for finding kinematic fields\n",
    "    px = re.compile(\"_[xyz]$\")\n",
    "\n",
    "    # Find the list of kinematic fields\n",
    "    fields = list(data)\n",
    "    fieldsKin = [x for x in fields if px.search(x)]\n",
    "    return fieldsKin\n",
    "\n",
    "def position_fields_to_position_and_velocity_fields(fields, prefix='d_'):\n",
    "    '''\n",
    "    Given a list of position columns, produce a new list\n",
    "    of columns that include both position and velocity\n",
    "    '''\n",
    "    fields_new = [prefix + x for x in fields]\n",
    "    return fields + fields_new"
   ]
  },
  {
   "cell_type": "code",
   "execution_count": null,
   "metadata": {},
   "outputs": [],
   "source": [
    "def plot_probs(outs, proba):\n",
    "    pred = proba[:,0] >= 0.5\n",
    "    confusion = confusion_matrix(outs, pred)\n",
    "    print(\"Confusion:\", confusion)\n",
    "    \n",
    "    # Evaluate\n",
    "    print(\"log loss: \", log_loss(outs, proba))\n",
    "    \n",
    "    # TPR/FPR plot\n",
    "    # Class 0 = Movement; Class 1 = no movement\n",
    "    fpr, tpr, thresholds = roc_curve(outs, proba[:,0])\n",
    "    fig, ax = plt.subplots()\n",
    "    ax.plot(thresholds, tpr, color='b')\n",
    "    ax.plot(thresholds, fpr, color='r')\n",
    "    ax.plot(thresholds, tpr - fpr, color='g')\n",
    "    ax.invert_xaxis()\n",
    "    ax.set_xlabel('threshold')\n",
    "    ax.set_ylabel('fraction')\n",
    "    ax.legend(['TPR', 'FPR', 'distance'])\n",
    "    \n",
    "    # ROC plot\n",
    "    fig, ax = plt.subplots()\n",
    "    ax.plot(fpr, tpr, color='b')\n",
    "    ax.plot([0,1], [0,1], 'r--')\n",
    "    ax.set_xlabel('FPR')\n",
    "    ax.set_ylabel('TPR')\n",
    "    ax.set_aspect('equal', 'box')\n",
    "    print(\"AUC:\", auc(fpr, tpr))\n",
    "    \n",
    "def plot_time_series(time_modified, outs, proba):\n",
    "    plt.figure()\n",
    "    plt.plot(time_modified, proba[:,0], 'r')\n",
    "    plt.plot(time_modified, proba[:,1], 'g')\n",
    "    plt.plot(time_modified, outs*.1-.2, 'k')\n",
    "    plt.ylabel('probability')\n",
    "    plt.xlabel('time (s)')\n",
    "\n",
    "    plt.xlim((50,70))\n",
    "    plt.legend(['movement', 'no movement'])"
   ]
  },
  {
   "cell_type": "markdown",
   "metadata": {},
   "source": [
    "## Load and organize data"
   ]
  },
  {
   "cell_type": "code",
   "execution_count": null,
   "metadata": {},
   "outputs": [],
   "source": [
    "# Note: you may need to change this path to get to the data\n",
    "fname = '/home/fagg/datasets/baby1/subject_k2_w10.csv'\n",
    "#fname = '/content/drive/MyDrive/MLP_2021/datasets/baby1/subject_k2_w10.csv'\n",
    "infant_data = pd.read_csv(fname)"
   ]
  },
  {
   "cell_type": "code",
   "execution_count": null,
   "metadata": {},
   "outputs": [],
   "source": [
    "time = infant_data['time'].values\n",
    "action = infant_data['sippc_action'].values"
   ]
  },
  {
   "cell_type": "code",
   "execution_count": null,
   "metadata": {},
   "outputs": [],
   "source": [
    "fieldsKin = get_kinematic_properties(infant_data)\n",
    "fieldsKinVel = position_fields_to_position_and_velocity_fields(fieldsKin)"
   ]
  },
  {
   "cell_type": "markdown",
   "metadata": {},
   "source": [
    "## Create Pipelines"
   ]
  },
  {
   "cell_type": "code",
   "execution_count": null,
   "metadata": {},
   "outputs": [],
   "source": [
    "prepipe = Pipeline([\n",
    "    ('derivative', ComputeDerivative(fieldsKin, dt=.02)),\n",
    "    ('dropper', DataSampleDropper())\n",
    "])\n",
    "\n",
    "# Position pipe\n",
    "pipe_pos = Pipeline([('selector', DataFrameSelector(fieldsKin))])\n",
    "\n",
    "# Position + velocity selector\n",
    "pipe_pos_vel = Pipeline([('selector', DataFrameSelector(fieldsKinVel))])\n",
    "\n",
    "# Robot action\n",
    "attribs_label = ['sippc_action']\n",
    "pipe_label = Pipeline([('selector', DataFrameSelector(attribs_label))])\n",
    "\n",
    "# Time\n",
    "attribs_time = ['time']\n",
    "pipe_time = Pipeline([('selector', DataFrameSelector(attribs_time))])\n"
   ]
  },
  {
   "cell_type": "code",
   "execution_count": null,
   "metadata": {},
   "outputs": [],
   "source": [
    "infant_data2 = prepipe.fit_transform(infant_data)\n",
    "\n",
    "# Selection\n",
    "inputs_pos = pipe_pos.transform(infant_data2)\n",
    "inputs_pos_vel = pipe_pos_vel.transform(infant_data2)\n",
    "action = pipe_label.transform(infant_data2).reshape((-1,))\n",
    "time = pipe_time.transform(infant_data2)"
   ]
  },
  {
   "cell_type": "markdown",
   "metadata": {},
   "source": [
    "## Create Class Labels"
   ]
  },
  {
   "cell_type": "code",
   "execution_count": null,
   "metadata": {},
   "outputs": [],
   "source": [
    "label_motion = action > 0\n",
    "\n",
    "# Action onset (any action)\n",
    "\n",
    "label_assistance_onset_any = (action[0:-1] == 0) & (action[1:] > 0) & (action[1:] <= 8)\n",
    "label_assistance_onset_any = np.append(label_assistance_onset_any, 0)\n",
    "\n",
    "# Action onset: power steering\n",
    "label_assistance_onset_ps = (action[0:-1] == 0) & (action[1:] > 0) & (action[1:] <= 4)\n",
    "label_assistance_onset_ps = np.append(label_assistance_onset_ps, 0)\n",
    "\n",
    "# Action onset: gesture\n",
    "label_assistance_onset_g = (action[0:-1] == 0) & (action[1:] >= 5) & (action[1:] <= 8)\n",
    "label_assistance_onset_g = np.append(label_assistance_onset_g, 0)\n"
   ]
  },
  {
   "cell_type": "markdown",
   "metadata": {},
   "source": [
    "## Filter Data Set\n",
    "Our goal: remove samples that are immediately around positive onset_g events"
   ]
  },
  {
   "cell_type": "code",
   "execution_count": null,
   "metadata": {},
   "outputs": [],
   "source": [
    "# Boolean to tell us whether to keep the samples\n",
    "keep = np.ones(shape=label_assistance_onset_g.shape)\n",
    "events = np.where(label_assistance_onset_g)\n",
    "for e in events[0]:\n",
    "    # Remove samples immediately after the trigger event\n",
    "    keep[e+1:e+26] = 0\n",
    "    # Swich negative class labels before the event to positive\n",
    "    label_assistance_onset_g[e-10:e] = 1\n",
    "\n",
    "# Indices of the original data set to keep\n",
    "indices = np.where(keep > 0)[0]\n"
   ]
  },
  {
   "cell_type": "markdown",
   "metadata": {},
   "source": [
    "## Tree classifier"
   ]
  },
  {
   "cell_type": "code",
   "execution_count": null,
   "metadata": {},
   "outputs": [],
   "source": [
    "# Only keep a subset of the available data\n",
    "ins = inputs_pos_vel[indices,:]\n",
    "outs = label_assistance_onset_g[indices]\n",
    "time_modified = time[indices]"
   ]
  },
  {
   "cell_type": "code",
   "execution_count": null,
   "metadata": {},
   "outputs": [],
   "source": [
    "classifier = DecisionTreeClassifier(max_leaf_nodes=10)\n"
   ]
  },
  {
   "cell_type": "code",
   "execution_count": null,
   "metadata": {},
   "outputs": [],
   "source": [
    "proba = cross_val_predict(classifier, ins,  outs, cv=10, \n",
    "                          method='predict_proba')"
   ]
  },
  {
   "cell_type": "code",
   "execution_count": null,
   "metadata": {},
   "outputs": [],
   "source": [
    "plot_probs(outs, proba)"
   ]
  },
  {
   "cell_type": "code",
   "execution_count": null,
   "metadata": {},
   "outputs": [],
   "source": [
    "plt.figure()\n",
    "plt.hist(proba[:,0], alpha = 0.5)\n",
    "plot_time_series(time_modified, outs, proba)"
   ]
  },
  {
   "cell_type": "markdown",
   "metadata": {},
   "source": [
    "## Bagging Classifier\n",
    "### Subspaces"
   ]
  },
  {
   "cell_type": "code",
   "execution_count": null,
   "metadata": {},
   "outputs": [],
   "source": [
    "# Start with small number of leaf nodes and estimators\n",
    "classifier = \n",
    "bagging_classifier = "
   ]
  },
  {
   "cell_type": "code",
   "execution_count": null,
   "metadata": {},
   "outputs": [],
   "source": []
  },
  {
   "cell_type": "code",
   "execution_count": null,
   "metadata": {},
   "outputs": [],
   "source": [
    "plot_probs(outs, proba)"
   ]
  },
  {
   "cell_type": "code",
   "execution_count": null,
   "metadata": {},
   "outputs": [],
   "source": [
    "plot_time_series(time_modified, outs, proba)"
   ]
  },
  {
   "cell_type": "code",
   "execution_count": null,
   "metadata": {},
   "outputs": [],
   "source": []
  },
  {
   "cell_type": "markdown",
   "metadata": {},
   "source": [
    "# Random Forests"
   ]
  },
  {
   "cell_type": "code",
   "execution_count": null,
   "metadata": {},
   "outputs": [],
   "source": [
    "# Sample size for each is the same as the training set!\n",
    "\n"
   ]
  },
  {
   "cell_type": "code",
   "execution_count": null,
   "metadata": {},
   "outputs": [],
   "source": [
    "proba = cross_val_predict(forest_classifier, ins,  outs, cv=10, \n",
    "                          method='predict_proba')\n",
    "plot_probs(outs, proba)"
   ]
  },
  {
   "cell_type": "code",
   "execution_count": null,
   "metadata": {},
   "outputs": [],
   "source": [
    "plot_time_series(time_modified, outs, proba)"
   ]
  },
  {
   "cell_type": "markdown",
   "metadata": {},
   "source": [
    "# Feature Importance"
   ]
  },
  {
   "cell_type": "code",
   "execution_count": null,
   "metadata": {},
   "outputs": [],
   "source": []
  },
  {
   "cell_type": "code",
   "execution_count": null,
   "metadata": {},
   "outputs": [],
   "source": []
  },
  {
   "cell_type": "code",
   "execution_count": null,
   "metadata": {},
   "outputs": [],
   "source": [
    "fig, ax = plt.subplots()\n",
    "ax.hist(forest_classifier.feature_importances_)\n",
    "plt.xlabel('Importance')\n",
    "plt.ylabel('Count')"
   ]
  },
  {
   "cell_type": "code",
   "execution_count": null,
   "metadata": {},
   "outputs": [],
   "source": []
  },
  {
   "cell_type": "markdown",
   "metadata": {},
   "source": [
    "# Boosting"
   ]
  },
  {
   "cell_type": "code",
   "execution_count": null,
   "metadata": {},
   "outputs": [],
   "source": [
    "\n",
    "classifier = DecisionTreeClassifier(max_leaf_nodes=10)\n",
    "ada_classifier = "
   ]
  },
  {
   "cell_type": "code",
   "execution_count": null,
   "metadata": {},
   "outputs": [],
   "source": [
    "proba = cross_val_predict(ada_classifier, ins,  outs, cv=10, \n",
    "                          method='predict_proba', n_jobs=-1)\n",
    "plot_probs(outs, proba)"
   ]
  },
  {
   "cell_type": "code",
   "execution_count": null,
   "metadata": {},
   "outputs": [],
   "source": [
    "plot_time_series(time_modified, outs, proba)"
   ]
  },
  {
   "cell_type": "code",
   "execution_count": null,
   "metadata": {},
   "outputs": [],
   "source": []
  }
 ],
 "metadata": {
  "kernelspec": {
   "display_name": "Python 3 (ipykernel)",
   "language": "python",
   "name": "python3"
  },
  "language_info": {
   "codemirror_mode": {
    "name": "ipython",
    "version": 3
   },
   "file_extension": ".py",
   "mimetype": "text/x-python",
   "name": "python",
   "nbconvert_exporter": "python",
   "pygments_lexer": "ipython3",
   "version": "3.10.6"
  }
 },
 "nbformat": 4,
 "nbformat_minor": 4
}
