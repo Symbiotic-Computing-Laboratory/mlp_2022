{
 "cells": [
  {
   "cell_type": "markdown",
   "metadata": {
    "id": "fReU1Sukz2rh"
   },
   "source": [
    "__NAME:__ __FULLNAME__  \n",
    " \n",
    "__CS 5703: Machine Learning Practice__\n",
    "\n",
    "# Homework 4: Linear Regression\n",
    "\n",
    "## Assignment Overview\n",
    "Follow the TODOs and read through and understand any provided code.  \n",
    "For all plots, make sure all necessary axes and curves are clearly and \n",
    "accurately labeled. Include figure/plot titles appropriately, as well.\n",
    "\n",
    "### Task\n",
    "For this assignment you will work with different training set sizes, constructing\n",
    "regression models from these sets, and evaluating the training and validation performance\n",
    "of these models. Additionally, it is good practice to have a high level understanding\n",
    "of the data one is working with, thus upon loading the data, we will also display \n",
    "aspects of the data. \n",
    "\n",
    "### Data set\n",
    "The BMI (Brain Machine Interface) data are stored in a single pickle file; within this file, there\n",
    "is one dictionary that contains all of the data.  The keys are: 'MI', \n",
    "'theta', 'dtheta', 'torque', and 'time'.  Each of these objects are python lists with 20 \n",
    "numpy matrices; each matrix contains an independent fold of data, with rows representing \n",
    "different samples and columns representing different dimensions.  The samples are organized \n",
    "contiguously (one sample every 50ms), but there are gaps in the data.\n",
    "* _MI_ contains the data for 48 neurons.  Each row encodes the number of action potentials for \n",
    "each neuron at each of 20 different time bins (so, 48 x 20 = 960 columns).  \n",
    "* _theta_ contains the angular position of the shoulder (in column 0) and the elbow \n",
    "(in column 1) for each sample.  \n",
    "* _dtheta_ contains the angular velocity of the shoulder (in column 0) and the elbow \n",
    "(in column 1) for each sample.  \n",
    "* _torque_ contains the torque of the shoulder (in column 0) and the elbow (in column \n",
    "1) for each sample.  \n",
    "* _time_ contains the actual time stamp of each sample.\n",
    "\n",
    "A fold is a subset of the available data.  Each fold contains independent time points.\n",
    "\n",
    "This assignment uses code examples and concepts from the lectures on regression \n",
    "\n",
    "### Objectives\n",
    "* Understand the impact of the training set size\n",
    "* Understand the essentials of linear regression:\n",
    "  + Prediction\n",
    "  + Multiple Regression\n",
    "  + Performance Evaluation\n",
    "\n",
    "### Notes\n",
    "* Make sure to select pages for your submission on Gradescope\n",
    "* Make sure to fill in your name on the assignment\n",
    "\n",
    "### General References\n",
    "* [Python Built-in Functions](https://docs.python.org/3/library/functions.html)\n",
    "* [Python Data Structures](https://docs.python.org/3/tutorial/datastructures.html)\n",
    "* [Numpy Reference](https://docs.scipy.org/doc/numpy/reference/index.html)\n",
    "* [Summary of matplotlib](https://matplotlib.org/3.1.1/api/pyplot_summary.html)\n",
    "* [Pandas DataFrames](https://urldefense.proofpoint.com/v2/url?u=https-3A__pandas.pydata.org_pandas-2Ddocs_stable_reference_api_pandas.DataFrame.html&d=DwMD-g&c=qKdtBuuu6dQK9MsRUVJ2DPXW6oayO8fu4TfEHS8sGNk&r=9ngmsG8rSmDSS-O0b_V0gP-nN_33Vr52qbY3KXuDY5k&m=mcOOc8D0knaNNmmnTEo_F_WmT4j6_nUSL_yoPmGlLWQ&s=h7hQjqucR7tZyfZXxnoy3iitIr32YlrqiFyPATkW3lw&e=)\n",
    "* [Sci-kit Learn Linear Models](https://scikit-learn.org/stable/modules/classes.html#module-sklearn.linear_model)\n",
    "* [Sci-kit Learn Ensemble Models](https://scikit-learn.org/stable/modules/classes.html#module-sklearn.ensemble)\n",
    "* [Sci-kit Learn Metrics](https://scikit-learn.org/stable/modules/classes.html#module-sklearn.metrics)\n",
    "* [Sci-kit Leatn Model Selection](https://scikit-learn.org/stable/modules/classes.html#module-sklearn.model_selection)\n",
    "* [Torque](https://en.wikipedia.org/wiki/Torque)\n",
    "* [Velocity](https://en.wikipedia.org/wiki/Velocity)\n",
    "\n",
    "\n",
    "### Hand-In Procedure\n",
    "* Execute all cells so they are showing correct results\n",
    "* Notebook (from Jupyter or Colab):\n",
    "  + Submit this file (.ipynb) to the Gradscope Notebook HW4 dropbox\n",
    "* Note: there is no need to submit a PDF file or to submit directly to Canvas\n",
    "* Note II: this homework assignment will take some real time to execute.  Leave yourself time for this"
   ]
  },
  {
   "cell_type": "code",
   "execution_count": null,
   "metadata": {
    "id": "2FLdn9pWz2rs"
   },
   "outputs": [],
   "source": [
    "import pandas as pd\n",
    "import numpy as np\n",
    "import pickle as pkl\n",
    "import scipy.stats as stats\n",
    "import os, re, fnmatch\n",
    "import matplotlib.pyplot as plt\n",
    "import matplotlib.patheffects as peffects\n",
    "\n",
    "from sklearn.pipeline import Pipeline\n",
    "from sklearn.base import BaseEstimator, TransformerMixin\n",
    "from sklearn.preprocessing import StandardScaler, PolynomialFeatures\n",
    "from sklearn.model_selection import cross_val_score, cross_val_predict\n",
    "from sklearn.linear_model import LinearRegression, SGDRegressor\n",
    "from sklearn.ensemble import GradientBoostingRegressor\n",
    "from sklearn.svm import SVR\n",
    "from sklearn import metrics\n",
    "from sklearn.linear_model import Ridge\n",
    "\n",
    "\n",
    "# Default figure parameters\n",
    "plt.rcParams['figure.figsize'] = (10,5)\n",
    "plt.rcParams['font.size'] = 12\n",
    "plt.rcParams['legend.fontsize'] = 10\n",
    "plt.rcParams['xtick.labelsize'] = 10\n",
    "plt.rcParams['ytick.labelsize'] = 10\n",
    "plt.rcParams['figure.constrained_layout.use'] = True\n",
    "plt.rcParams['axes.titlesize'] = 18\n",
    "plt.rcParams['axes.labelsize'] = 12\n",
    "\n",
    "%matplotlib inline\n",
    "\n",
    "\n",
    "%matplotlib inline"
   ]
  },
  {
   "cell_type": "code",
   "execution_count": null,
   "metadata": {
    "colab": {
     "base_uri": "https://localhost:8080/"
    },
    "id": "y-yQy6ALz_Yz",
    "outputId": "1a4ce9f9-2fdd-422c-f19f-31e71521854c"
   },
   "outputs": [],
   "source": [
    "# Mount the Google Drive\n",
    "\n",
    "from google.colab import drive\n",
    "drive.mount('/content/drive')"
   ]
  },
  {
   "cell_type": "markdown",
   "metadata": {
    "id": "e1_nNiHLz2ry"
   },
   "source": [
    "# LOAD DATA"
   ]
  },
  {
   "cell_type": "code",
   "execution_count": null,
   "metadata": {
    "colab": {
     "base_uri": "https://localhost:8080/"
    },
    "id": "1eE57pFrz2r1",
    "outputId": "187900f5-ff94-4b35-8a11-979348f6a89b"
   },
   "outputs": [],
   "source": [
    "\"\"\" TODO\n",
    "Load the BMI data from all the folds\n",
    "\"\"\"\n",
    "# Local file location\n",
    "#fname = '/home/fagg/datasets/bmi/bmi_dataset.pkl'\n",
    "# CoLab file location\n",
    "fname = '/content/drive/MyDrive/MLP_2022/datasets/bmi_dataset.pkl'\n",
    "\n",
    "with open(fname, 'rb') as f:\n",
    "  bmi = pkl.load(f)\n",
    "\n",
    "# TODO: finish extracting the MI data folds (other folds provided)\n",
    "print(bmi.keys())\n",
    "theta_folds = bmi['theta']\n",
    "dtheta_folds = bmi['dtheta']\n",
    "torque_folds = bmi['torque']\n",
    "time_folds = bmi['time']\n",
    "#MI_folds = # TODO\n",
    "\n",
    "# Combine the data for the individual folds together into their own tuples\n",
    "alldata_folds = zip(MI_folds, theta_folds, dtheta_folds, torque_folds, time_folds)\n",
    "\n",
    "nfolds = len(MI_folds)\n",
    "nfolds"
   ]
  },
  {
   "cell_type": "code",
   "execution_count": null,
   "metadata": {
    "colab": {
     "base_uri": "https://localhost:8080/"
    },
    "id": "eSStTLJLz2r3",
    "outputId": "4a6c15e6-8e2b-452b-93f2-37d9e0421b76"
   },
   "outputs": [],
   "source": [
    "\"\"\"\n",
    "Print out the shape of all the data for each fold\n",
    "\"\"\"\n",
    "# TODO: finish by including shape of time data\n",
    "for i, (MI, theta, dtheta, torque, time) in enumerate(alldata_folds):\n",
    "  print(f\"Fold {i} {MI.shape} {theta.shape} {dtheta.shape} {torque.shape} *** \")"
   ]
  },
  {
   "cell_type": "code",
   "execution_count": null,
   "metadata": {
    "colab": {
     "base_uri": "https://localhost:8080/"
    },
    "id": "-U3U2cANz2r6",
    "outputId": "0c1b5c4a-3388-49cc-f577-299905e1ccdd"
   },
   "outputs": [],
   "source": [
    "\"\"\" PROVIDED\n",
    "Print out the first few rows and columns of the MI data\n",
    "for a few folds\n",
    "\"\"\"\n",
    "for i, MI in enumerate(MI_folds[:3]):\n",
    "  print(f\"Fold {i}\")\n",
    "  print(MI[:5,:20])"
   ]
  },
  {
   "cell_type": "code",
   "execution_count": null,
   "metadata": {
    "colab": {
     "base_uri": "https://localhost:8080/"
    },
    "id": "qCcWZqv-z2r7",
    "outputId": "dcfb0fe5-a185-40c8-d4b7-0cd72a464b0a"
   },
   "outputs": [],
   "source": [
    "\"\"\" TODO\n",
    "Check the data for any NaNs\n",
    "\"\"\"\n",
    "def anynans(X):\n",
    "    return np.isnan(X).any()\n",
    "\n",
    "alldata_folds = zip(MI_folds, theta_folds, dtheta_folds, torque_folds, time_folds)\n",
    "\n",
    "# TODO: finish by checking the MI data for any NaNs\n",
    "for i, (MI, theta, dtheta, torque, time) in enumerate(alldata_folds):\n",
    "  print(f\"FOLD {i}  *** \")"
   ]
  },
  {
   "cell_type": "code",
   "execution_count": null,
   "metadata": {
    "colab": {
     "base_uri": "https://localhost:8080/",
     "height": 1000
    },
    "id": "KiTkZbTqz2r8",
    "outputId": "c89235b3-8d89-404b-ce2c-d707d7b36518"
   },
   "outputs": [],
   "source": [
    "\"\"\" PROVIDED\n",
    "For the first 4 folds, plot the data for the elbow and shoulder\n",
    "and from one neuron\n",
    "\"\"\"\n",
    "f = 4\n",
    "data_folds = zip(MI_folds[:f], theta_folds[:f], dtheta_folds[:f], \n",
    "                 torque_folds[:f], time_folds[:f])\n",
    "\n",
    "for i, (MI, theta, dtheta, torque, time) in enumerate(data_folds):\n",
    "    fig, axs = plt.subplots(4, 1)\n",
    "    fig.subplots_adjust(hspace=.05)\n",
    "    axs = axs.ravel()\n",
    "    \n",
    "    # Neural Activation Counts\n",
    "    axs[0].stem(time, MI[:,0], label='counts', use_line_collection=True)\n",
    "    #axs[0].plot(time,MI[:,0], label='counts')\n",
    "    axs[0].set_title(f\"Fold {i}\")\n",
    "    axs[0].legend(loc='upper left')\n",
    "    \n",
    "    lgnd = ['shoulder', 'elbow']\n",
    "    \n",
    "    # Position\n",
    "    axs[1].plot(time, theta)\n",
    "    axs[1].set_ylabel(r\"$\\theta \\;(rad)$\")\n",
    "    axs[1].legend(lgnd, loc='upper left')\n",
    "    \n",
    "    # Velocity\n",
    "    axs[2].plot(time, dtheta)\n",
    "    axs[2].set_ylabel(r\"$d\\theta\\; /\\; dt \\;(rad/s)$\")\n",
    "    axs[2].legend(lgnd, loc='upper left')\n",
    "    \n",
    "    # Torque\n",
    "    axs[3].plot(time, torque)\n",
    "    axs[3].set_ylabel(r\"$\\tau \\;(Nm)$\")\n",
    "    axs[3].legend(lgnd, loc='upper left')\n",
    "    if i == (f-1): \n",
    "        axs[3].set_xlabel('Time (s)')"
   ]
  },
  {
   "cell_type": "markdown",
   "metadata": {
    "id": "P0w017ccz2r-"
   },
   "source": [
    "# MODEL OUTPUTS"
   ]
  },
  {
   "cell_type": "code",
   "execution_count": null,
   "metadata": {
    "colab": {
     "base_uri": "https://localhost:8080/",
     "height": 705
    },
    "id": "lC-5Pn0yz2r_",
    "outputId": "842f20e6-3946-454e-d6d8-e1eeec1427cd"
   },
   "outputs": [],
   "source": [
    "\"\"\" PROVIDED\n",
    "For fold 6, visualize the correlation between the shoulder\n",
    "and elbow for the angular position, the angular velocity, and the \n",
    "torque\n",
    "\"\"\"\n",
    "f = 6\n",
    "\n",
    "y_pos = theta_folds[f]\n",
    "y_vel = dtheta_folds[f]\n",
    "y_tor = torque_folds[f]\n",
    "time = time_folds[f]\n",
    "\n",
    "nrows = 3\n",
    "ncols = 2\n",
    "fig, axs = plt.subplots(nrows, ncols)\n",
    "fig.subplots_adjust(wspace=.3, hspace=.7)\n",
    "axs = axs.ravel()\n",
    "xlim = [970, 1000]\n",
    "\n",
    "# POSITION\n",
    "p = 0\n",
    "axs[p].plot(time, y_pos)\n",
    "axs[p].set_ylabel(r'$\\theta \\;(rad)$')\n",
    "axs[p].legend(['shoulder', 'elbow'], loc='upper left')\n",
    "axs[p].set_xlim(xlim)\n",
    "\n",
    "p = 1\n",
    "axs[p].plot(y_pos[:,0], y_pos[:,1])\n",
    "axs[p].set_ylabel('elbow')\n",
    "#axs[p].set_title(r'$\\theta \\; (rad)$')\n",
    "\n",
    "# VELOCITY\n",
    "p = 2\n",
    "axs[p].plot(time, y_vel)\n",
    "axs[p].set_ylabel(r'$d\\theta\\;/\\;dt\\;(rad/s)$')\n",
    "#axs[p].set_title(r'$d\\theta\\;/\\;dt\\;(rad/s)$')\n",
    "axs[p].legend(['shoulder', 'elbow'], loc='upper left')\n",
    "axs[p].set_xlim(xlim)\n",
    "\n",
    "p = 3\n",
    "axs[p].plot(y_vel[:,0], y_vel[:,1])\n",
    "axs[p].set_ylabel('elbow')\n",
    "#axs[p].set_title(r'd$\\theta\\;/\\;dt\\;(rad/s)$')\n",
    "\n",
    "# TORQUE\n",
    "p = 4\n",
    "axs[p].plot(time, y_tor)\n",
    "axs[p].set_ylabel(r'$\\tau \\;(Nm)$')\n",
    "#axs[p].set_title(r'$\\tau$')\n",
    "axs[p].legend(['shoulder', 'elbow'], loc='upper left')\n",
    "axs[p].set_xlabel('Time (s)')\n",
    "axs[p].set_xlim(xlim)\n",
    "\n",
    "p = 5\n",
    "axs[p].plot(y_tor[:,0], y_tor[:,1])\n",
    "axs[p].set_xlabel('shoulder')\n",
    "axs[p].set_ylabel('elbow')\n",
    "#axs[p].set_title(r'$\\tau \\;(Nm)$')"
   ]
  },
  {
   "cell_type": "markdown",
   "metadata": {
    "id": "QACzhhyrz2sJ"
   },
   "source": [
    "# REGRESSION\n",
    "Predict Velocity of the shoulder and the elbow from the neural activations"
   ]
  },
  {
   "cell_type": "code",
   "execution_count": null,
   "metadata": {
    "id": "Bl8sLty5z2sJ"
   },
   "outputs": [],
   "source": [
    "\"\"\" TODO\n",
    "Evaluate the training performance of an already trained model\n",
    "\n",
    "PARAMS:\n",
    "    trues: N x k numpy matrix of ground truth state (k = # dimensions\n",
    "       that the model outputs; N = number of examples)\n",
    "    preds: N x k numpy matrix of predictions\n",
    "RETURNS:\n",
    "    mse, rmse_rads: k numpy vectors\n",
    "    rmse_degs: 1 x k numpy matrix\n",
    "\"\"\"\n",
    "def mse_rmse(trues, preds):\n",
    "    '''\n",
    "    Compute MSE and rMSE for each column separately.\n",
    "    '''\n",
    "    mse = np.sum(np.square(trues - preds), axis=0) / trues.shape[0]\n",
    "    rmse_rads = np.sqrt(mse)\n",
    "    rmse_degs = rmse_rads * 180 / np.pi\n",
    "    return mse, rmse_rads, np.reshape(rmse_degs, (1, -1))\n",
    "\n",
    "# TODO: finish implementation\n",
    "def predict_score_eval(model, X, y):\n",
    "    '''\n",
    "    Compute the model predictions and cooresponding scores.\n",
    "    PARAMS:\n",
    "        model: the trained model used to make predicitons\n",
    "        X: feature data\n",
    "        y: cooresponding output\n",
    "    RETURNS:\n",
    "        mse: mean squared error for each column (k vector)\n",
    "        rmse_rads: rMSE in radians (k vector)\n",
    "        rmse_deg: rMSE in degrees (1 x k matrix)\n",
    "        score: score computed by the models score() method (scalar)\n",
    "        preds: predictions of the model from X (N x k matrix)\n",
    "    '''\n",
    "    preds = # TODO: use the model to predict the outputs from the input data\n",
    "    \n",
    "    \n",
    "    # TODO: use the model to compute the score\n",
    "    #       This can also be done using a function from  sklearn.metrics \n",
    "    #       but calling the model's score method will give us the default\n",
    "    #       scoring method for that model. \n",
    "    #       For the LinearRegression model, this is the coefficient of \n",
    "    #       determination: R^2\n",
    "    #       see the Sci-kit Learn documentation for LinearRegression for more details\n",
    "    #       Also see: https://scikit-learn.org/stable/modules/model_evaluation.html\n",
    "    score = # TODO\n",
    "    \n",
    "    mse, rmse_rads, rmse_deg = # TODO: use mse_rmse() to compute the mse and rmse\n",
    "\n",
    "    return mse, rmse_rads, rmse_deg, score, preds\n"
   ]
  },
  {
   "cell_type": "markdown",
   "metadata": {
    "id": "dAS3QgRDz2sL"
   },
   "source": [
    "### Training"
   ]
  },
  {
   "cell_type": "code",
   "execution_count": null,
   "metadata": {
    "colab": {
     "base_uri": "https://localhost:8080/"
    },
    "id": "pBjE_Kq9z2sM",
    "outputId": "dd0146dd-7efd-46c7-d0e6-80290469c5ee"
   },
   "outputs": [],
   "source": [
    "\"\"\" TODO\n",
    "Extract the MI data from fold 6 as input and the velocity data from \n",
    "fold 6 as the output, for a multiple linear regression model (i.e.\n",
    "the model will simultaneously predict shoulder and elbow velocity).\n",
    "Create a LinearRegression() model and train it using fit() on the \n",
    "data from fold 6\n",
    "\"\"\"\n",
    "fold_idx = 6\n",
    "X = MI_folds[fold_idx]\n",
    "y = dtheta_folds[fold_idx]\n",
    "time = time_folds[fold_idx]\n",
    "\n",
    "# TODO"
   ]
  },
  {
   "cell_type": "code",
   "execution_count": null,
   "metadata": {
    "colab": {
     "base_uri": "https://localhost:8080/"
    },
    "id": "N6-_BNHBz2sN",
    "outputId": "b81a1104-3d89-40dc-a8a8-7865f1c4d25b"
   },
   "outputs": [],
   "source": [
    "# Provided\n",
    "# Execute this cell\n",
    "X.shape, y.shape"
   ]
  },
  {
   "cell_type": "code",
   "execution_count": null,
   "metadata": {
    "colab": {
     "base_uri": "https://localhost:8080/"
    },
    "id": "IHLG9_BRz2sO",
    "outputId": "1694075c-5daf-4bed-f781-3c38a6bed4cd"
   },
   "outputs": [],
   "source": [
    "\"\"\" TODO\n",
    "Evaluate the training performace of the model, using predict_score_eval()\n",
    "Print the results displaying MSE, rMSE in rads and degrees, and the \n",
    "correlation\n",
    "\"\"\"\n",
    "# TODO: call predict_score_eval() and get the corresponding outputs\n",
    "mse, rmse_rads, rmse_degs, score, preds = # TODO\n",
    "\n",
    "# TODO: print the results of predict_score_eval()\n"
   ]
  },
  {
   "cell_type": "code",
   "execution_count": null,
   "metadata": {
    "colab": {
     "base_uri": "https://localhost:8080/",
     "height": 385
    },
    "id": "xJaDXCp8z2sQ",
    "outputId": "846be33c-b775-48d4-92cf-85cd58922a47"
   },
   "outputs": [],
   "source": [
    "\"\"\" TODO\n",
    "Plot the true velocity and the predicted velocity for the shoulder and \n",
    "elbow, over time. Use 2 subplots (one subplot per output).\n",
    "\n",
    "Focus on the time range 760 to 770 seconds\n",
    "\"\"\"\n",
    "titles = ['Shoulder', 'Elbow']\n",
    "xlim = [980,990]\n",
    "\n",
    "# TODO: Generate the plots\n",
    "fig = plt.figure()\n",
    "for i in range(2):\n",
    "    plt.subplot(1, 2, i+1)\n",
    "    # TODO"
   ]
  },
  {
   "cell_type": "markdown",
   "metadata": {
    "id": "6YPsSYujz2sR"
   },
   "source": [
    "### Testing"
   ]
  },
  {
   "cell_type": "code",
   "execution_count": null,
   "metadata": {
    "colab": {
     "base_uri": "https://localhost:8080/"
    },
    "id": "fnkvnmxRz2sS",
    "outputId": "65ceb031-5af9-4cb2-e67f-f3681fca3bef"
   },
   "outputs": [],
   "source": [
    "\"\"\" TODO\n",
    "Evaluate the performace of the model on unseen data from fold 1.\n",
    "Recall that your model was trained using data from fold 6.\n",
    "Print the results displaying MSE, rMSE in rads and degrees, and \n",
    "the correlation\n",
    "\"\"\"\n",
    "ft = 1\n",
    "Xtest = MI_folds[ft]\n",
    "ytest = dtheta_folds[ft]\n",
    "time_tst = time_folds[ft]\n",
    "\n",
    "# TODO: call predict_score_eval() and get the corresponding outputs\n",
    "(\n",
    "    mse_test, \n",
    "    rmse_rads_test, rmse_degs_test, \n",
    "    score_test, \n",
    "    preds_test\n",
    ") = # TODO \n",
    "\n",
    "# TODO: print the results of predict_score_eval()\n"
   ]
  },
  {
   "cell_type": "code",
   "execution_count": null,
   "metadata": {
    "colab": {
     "base_uri": "https://localhost:8080/",
     "height": 385
    },
    "id": "KGhUUPbBz2sT",
    "outputId": "61afbc48-281b-448d-e2e3-579aad55b529"
   },
   "outputs": [],
   "source": [
    "\"\"\" TODO\n",
    "Plot the true velocity and the predicted velocity over time, for the \n",
    "shoulder and the elbow. Use 2 subplots (one for the shoulder and \n",
    "the other for the elbow)\n",
    "\n",
    "Focus on the time range 170 to 180 seconds\n",
    "\"\"\"\n",
    "titles = ['Shoulder', 'Elbow']\n",
    "xlim = [170, 180]\n",
    "\n",
    "# TODO: Generate the plots\n",
    "fig = plt.figure()\n",
    "for i in range(2):\n",
    "    plt.subplot(1, 2, i+1)\n",
    "    # TODO"
   ]
  },
  {
   "cell_type": "markdown",
   "metadata": {
    "id": "b_O13_M19J3D"
   },
   "source": [
    "### Evaluate Train vs Test"
   ]
  },
  {
   "cell_type": "code",
   "execution_count": null,
   "metadata": {
    "colab": {
     "base_uri": "https://localhost:8080/"
    },
    "id": "VWneShfd9J3D",
    "outputId": "7c3543a4-dae3-4c14-a4bd-4be52038cfff"
   },
   "outputs": [],
   "source": [
    "\"\"\" TODO\n",
    "Compare the scores (MSE, RMSE rad, RMSE deg, correlation) on the train and test folds\n",
    "hint: it may be helpful for some to compare the magnitude using the absolute value. This is built in to python: `abs`\n",
    "\"\"\"\n",
    "\n",
    "# TODO"
   ]
  },
  {
   "cell_type": "markdown",
   "metadata": {
    "id": "4cEmI9Ir9J3E"
   },
   "source": [
    "## Reflection\n",
    "In 1-3 sentences, explain the meaning of the above comparison and the difference between the last two plots. Why does the prediction match the data on fold 5, but not on fold 1? How can we tell this from our score comparison?1?"
   ]
  },
  {
   "cell_type": "markdown",
   "metadata": {
    "id": "6nXa-24O9J3E"
   },
   "source": [
    "# TODO"
   ]
  },
  {
   "cell_type": "markdown",
   "metadata": {
    "id": "w70ht4Kqz2sV"
   },
   "source": [
    "### Training Size Sensitivity\n",
    "For this section, you will be training the model on a different number of folds, each time testing it on the same unseen data from another fold not used in the training procedure."
   ]
  },
  {
   "cell_type": "code",
   "execution_count": null,
   "metadata": {
    "id": "V4-NnJGVz2sW"
   },
   "outputs": [],
   "source": [
    "\"\"\" TODO\n",
    "Fill in the missing lines of code\n",
    "\"\"\"\n",
    "def training_set_size_loop(model, X, y, folds_inds, val_fold_idx):\n",
    "    '''\n",
    "    Train a model on multiple training set sizes\n",
    "    \n",
    "    PARAMS:\n",
    "        model: object to train\n",
    "        X: input data\n",
    "        y: output data\n",
    "        folds_inds: list of the number of folds to use for different \n",
    "                    training sets\n",
    "        val_fold_idx: fold index to use as the validation set. This\n",
    "                      must be greater than the max value of\n",
    "                      folds_inds\n",
    "    RETURNS:\n",
    "        rmse: dict of train and validation RMSE lists\n",
    "        corr: dict of train and validation R^2 lists\n",
    "    '''\n",
    "    # Create dictionaries to record performance metrics\n",
    "    ncats = y[0].shape[1]\n",
    "    rmse = {'train':np.empty((0, ncats)), 'val':np.empty((0, ncats))}\n",
    "    corr = {'train':[], 'val':[]}\n",
    "    \n",
    "    # Data used for validation\n",
    "    Xval = X[val_fold_idx]\n",
    "    yval = y[val_fold_idx]\n",
    "    \n",
    "    # Loop over the different experiments\n",
    "    for f in folds_inds:\n",
    "        # Construct training set \n",
    "        Xtrain = np.concatenate(X[:f])\n",
    "        ytrain = np.concatenate(y[:f])\n",
    "        \n",
    "        # TODO: Train the model\n",
    "        \n",
    "        # TODO: call predict_score_eval using the training data\n",
    "        _, _, rmse_degs, score, _ = \n",
    "        # TODO: call predict_score_eval using the validation data\n",
    "        _, _, rmse_degs_val, score_val, _ = \n",
    "\n",
    "        # Record the performance metrics for this experiment\n",
    "        rmse['train'] = np.append(rmse['train'], rmse_degs, axis=0)\n",
    "        corr['train'].append(score)\n",
    "        rmse['val'] = np.append(rmse['val'], rmse_degs_val, axis=0)\n",
    "        corr['val'].append(score_val)\n",
    "        \n",
    "    return rmse, corr"
   ]
  },
  {
   "cell_type": "code",
   "execution_count": null,
   "metadata": {
    "id": "YU0J0gjS9J3F"
   },
   "outputs": [],
   "source": [
    "\"\"\" TODO \n",
    "Create a new linear model and train the model on different training set sizes, \n",
    "using training_set_size_loop() with training sets of sizes 1,2,3,5,8,13,18 \n",
    "and use 19 as the val_fold_idx.\n",
    "The input data is the MI data and the output data is the velocity for both the \n",
    "shoulder and elbow.\n",
    "\"\"\" \n",
    "val_fold = 19\n",
    "training_sizes = [1,2,3,5,8,13,18]\n",
    "\n",
    "# TODO: Create a new LinearRegression model\n",
    "model = #TODO\n",
    "\n",
    "# TODO: get the list of rMSE and correlation values per training set fold, by\n",
    "#       using training_set_size_loop \n",
    "X = # TODO\n",
    "y = # TODO\n",
    "\n",
    "rmse, corr = # TODO"
   ]
  },
  {
   "cell_type": "code",
   "execution_count": null,
   "metadata": {
    "colab": {
     "base_uri": "https://localhost:8080/",
     "height": 954
    },
    "id": "KsDtkWy-z2sY",
    "outputId": "23a17368-edc1-44fa-d014-c99d1f3220ba"
   },
   "outputs": [],
   "source": [
    "\"\"\" TODO\n",
    "Plot rMSE as a function of the training set size for\n",
    "the shoulder and the elbow; also plot correlation as\n",
    "a function of training set size. Use three subplots\n",
    "(one for the shoulder rMSE, one for the elbow rMSE, \n",
    "and one with the correlation)\n",
    "\"\"\"\n",
    "titles = ['Shoulder', 'Elbow']\n",
    "\n",
    "fig = plt.figure()\n",
    "fig.subplots_adjust(hspace=.15)\n",
    "\n",
    "# Shoulder\n",
    "plt.subplot(3, 1, 1)\n",
    "plt.plot(folds, rmse['train'][:,0].T, label='Training')\n",
    "plt.plot(folds, rmse['val'][:,0].T, label='Validation')\n",
    "plt.ylabel('shoulder rmse ')\n",
    "plt.legend()\n",
    "plt.xticks([])\n",
    "\n",
    "# Elbow\n",
    "# TODO\n",
    "    \n",
    "# Correlation\n",
    "# TODO\n",
    "\n",
    "plt.xticks(training_sizes)"
   ]
  },
  {
   "cell_type": "markdown",
   "metadata": {
    "id": "fXd1al2F9J3G"
   },
   "source": [
    "## Reflection\n",
    "In 1-3 sentences, explain the results shown in the above graphs. How should we interpret them, and how much data do we really need for training?"
   ]
  },
  {
   "cell_type": "markdown",
   "metadata": {
    "id": "VQeqwNPS9J3G"
   },
   "source": []
  }
 ],
 "metadata": {
  "colab": {
   "collapsed_sections": [],
   "provenance": []
  },
  "interpreter": {
   "hash": "e7370f93d1d0cde622a1f8e1c04877d8463912d04d973331ad4851f04de6915a"
  },
  "kernelspec": {
   "display_name": "Python 3 (ipykernel)",
   "language": "python",
   "name": "python3"
  },
  "language_info": {
   "codemirror_mode": {
    "name": "ipython",
    "version": 3
   },
   "file_extension": ".py",
   "mimetype": "text/x-python",
   "name": "python",
   "nbconvert_exporter": "python",
   "pygments_lexer": "ipython3",
   "version": "3.10.6"
  }
 },
 "nbformat": 4,
 "nbformat_minor": 4
}
