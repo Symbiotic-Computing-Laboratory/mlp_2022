{
 "cells": [
  {
   "cell_type": "markdown",
   "metadata": {
    "id": "Co6Jhbi1d_uk"
   },
   "source": [
    "__NAME:__ __FULLNAME__   \n",
    "__CS 5703: Machine Learning Practice__\n",
    "\n",
    "# Homework 5: Regularization\n",
    "\n",
    "## Assignment Overview\n",
    "Follow the TODOs and read through and understand any provided code.  \n",
    "For all plots, make sure all necessary axes and curves are clearly and \n",
    "accurately labeled. Include appropriate figure/plot titles, as well.\n",
    "\n",
    "### Task\n",
    "For this assignment you will be exploring regularization. Regularization\n",
    "is a powerful tool in machine learning to impose rational constraints on \n",
    "models during the training process to mitigate overfitting to the training \n",
    "set and improve model generalization. By including one or more terms within\n",
    "the cost (error) function to penalize the weights, the learning algorithm will try \n",
    "to fit the data while avoiding certain values for the weights that might \n",
    "overfit the data.\n",
    "\n",
    "\n",
    "### Data set\n",
    "The BMI (Brain Machine Interface) data are stored in a single pickle file; within this file, there\n",
    "is one dictionary that contains all of the data.  The keys are: 'MI', \n",
    "'theta', 'dtheta', 'torque', and 'time'.  Each of these objects are python lists with 20 \n",
    "numpy matrices; each matrix contains an independent fold of data, with rows representing \n",
    "different samples and columns representing different dimensions.  The samples are organized \n",
    "contiguously (one sample every 50ms), but there are gaps in the data.\n",
    "* _MI_ contains the data for 48 neurons.  Each row encodes the number of action potentials for \n",
    "each neuron at each of 20 different time bins (so, 48 x 20 = 960 columns).  \n",
    "* _theta_ contains the angular position of the shoulder (in column 0) and the elbow \n",
    "(in column 1) for each sample.  \n",
    "* _dtheta_ contains the angular velocity of the shoulder (in column 0) and the elbow \n",
    "(in column 1) for each sample.  \n",
    "* _torque_ contains the torque of the shoulder (in column 0) and the elbow (in column \n",
    "1) for each sample.  \n",
    "* _time_ contains the actual time stamp of each sample.\n",
    "\n",
    "A fold is a subset of the available data.  Cutting the data into folds is useful for adjusting training, validation, and test \n",
    "sets sizes, and for assessing the generality of a modelling approach.Each fold contains independent time points.\n",
    "\n",
    "This assignment utilizes code examples and concepts from the Regression lectures.\n",
    "\n",
    "### Objectives\n",
    "* Use and understand regularization in regression\n",
    "* Learn to select hyper-parameters to tune model behavior, specifically:\n",
    "    * Regularization parameters\n",
    "    \n",
    "### Notes\n",
    "* Be sure to adequately label all the plots you generate.\n",
    "\n",
    "\n",
    "### General References\n",
    "* [Python Built-in Functions](https://docs.python.org/3/library/functions.html)\n",
    "* [Python Data Structures](https://docs.python.org/3/tutorial/datastructures.html)\n",
    "* [Numpy Reference](https://docs.scipy.org/doc/numpy/reference/index.html)\n",
    "* [Summary of matplotlib](https://matplotlib.org/3.1.1/api/pyplot_summary.html)\n",
    "* [Pandas DataFrames](https://urldefense.proofpoint.com/v2/url?u=https-3A__pandas.pydata.org_pandas-2Ddocs_stable_reference_api_pandas.DataFrame.html&d=DwMD-g&c=qKdtBuuu6dQK9MsRUVJ2DPXW6oayO8fu4TfEHS8sGNk&r=9ngmsG8rSmDSS-O0b_V0gP-nN_33Vr52qbY3KXuDY5k&m=mcOOc8D0knaNNmmnTEo_F_WmT4j6_nUSL_yoPmGlLWQ&s=h7hQjqucR7tZyfZXxnoy3iitIr32YlrqiFyPATkW3lw&e=)\n",
    "* [Sci-kit Learn Linear Models](https://scikit-learn.org/stable/modules/classes.html#module-sklearn.linear_model)\n",
    "* [Sci-kit Learn Ensemble Models](https://scikit-learn.org/stable/modules/classes.html#module-sklearn.ensemble)\n",
    "* [Sci-kit Learn Metrics](https://scikit-learn.org/stable/modules/classes.html#module-sklearn.metrics)\n",
    "* [Sci-kit Learn Model Selection](https://scikit-learn.org/stable/modules/classes.html#module-sklearn.model_selection)\n",
    "* [JobLib](https://joblib.readthedocs.io/en/latest/)\n",
    "\n",
    "## Hand-In Procedure\n",
    "* Execute all cells so they are showing correct results\n",
    "* Notebook (from Jupyter or Colab):\n",
    "  + Submit this file (.ipynb) to the Gradscope Notebook HW5 dropbox\n",
    "* Note: there is no need to submit a PDF file or to submit directly to Canvas"
   ]
  },
  {
   "cell_type": "code",
   "execution_count": null,
   "metadata": {
    "id": "faXe2Y8Zd_uw"
   },
   "outputs": [],
   "source": [
    "# PROVIDED\n",
    "import pickle as pkl\n",
    "import pandas as pd\n",
    "import numpy as np\n",
    "import os, re, fnmatch, time\n",
    "import matplotlib.pyplot as plt\n",
    "import joblib\n",
    "\n",
    "from sklearn.model_selection import GridSearchCV \n",
    "from sklearn.linear_model import LinearRegression, ElasticNet, Lasso, Ridge\n",
    "from sklearn.metrics import make_scorer\n",
    "\n",
    "# Default figure parameters\n",
    "plt.rcParams['figure.figsize'] = (10,5)\n",
    "plt.rcParams['font.size'] = 12\n",
    "plt.rcParams['legend.fontsize'] = 10\n",
    "plt.rcParams['xtick.labelsize'] = 10\n",
    "plt.rcParams['ytick.labelsize'] = 10\n",
    "plt.rcParams['figure.constrained_layout.use'] = True\n",
    "plt.rcParams['axes.titlesize'] = 18\n",
    "plt.rcParams['axes.labelsize'] = 12\n",
    "\n",
    "#%matplotlib inline"
   ]
  },
  {
   "cell_type": "code",
   "execution_count": null,
   "metadata": {
    "colab": {
     "base_uri": "https://localhost:8080/"
    },
    "id": "yLW-7Euid_uz",
    "outputId": "963d2b21-bd36-48af-f59c-6e30b3b8e277"
   },
   "outputs": [],
   "source": [
    "# Mount Google Drive\n",
    "from google.colab import drive\n",
    "drive.mount('/content/drive')"
   ]
  },
  {
   "cell_type": "markdown",
   "metadata": {
    "id": "Dco6p8rV0T6w"
   },
   "source": [
    "# Important Note"
   ]
  },
  {
   "cell_type": "code",
   "execution_count": null,
   "metadata": {
    "id": "Dco6p8rV0T6w"
   },
   "outputs": [],
   "source": [
    "# CoLab users:\n",
    "\n",
    "#If the error is observed while running plots:\n",
    "# FileNotFoundError: [Errno 2] No such file or directory: 'latex': 'latex'\n",
    "# Uncomment the below lines and run them once. It might take some time.\n",
    "\n",
    "#!sudo apt update\n",
    "#!sudo apt install cm-super dvipng texlive-latex-extra texlive-latex-recommended\n",
    "\n",
    "# Note that you will need to execute this every time you start a new virtual machine\n",
    "\n",
    "# Other users:\n",
    "# If you experience a related error, you will need to use your standard installtion\n",
    "# technique to add the same set of packages to your python environment\n"
   ]
  },
  {
   "cell_type": "markdown",
   "metadata": {
    "id": "Q4J2R05Ud_u1"
   },
   "source": [
    "# LOAD DATA"
   ]
  },
  {
   "cell_type": "code",
   "execution_count": null,
   "metadata": {
    "colab": {
     "base_uri": "https://localhost:8080/"
    },
    "id": "pKH8jWEgd_u2",
    "outputId": "a01ad5ee-7668-477c-cb43-3d7f6c2a3d0e"
   },
   "outputs": [],
   "source": [
    "\"\"\" TODO\n",
    "Load the BMI data from all the folds\n",
    "\"\"\"\n",
    "# Local file name\n",
    "# fname = '/home/fagg/datasets/bmi/bmi_dataset.pkl'\n",
    "# CoLab file name\n",
    "fname = '/content/drive/MyDrive/MLP_2022/datasets/bmi_dataset.pkl'\n",
    "\n",
    "# Load the data\n",
    "with open(fname, 'rb') as f:\n",
    "  bmi = pkl.load(f)\n",
    "\n",
    "# Extract the individual components\n",
    "theta_folds = bmi['theta']\n",
    "dtheta_folds = bmi['dtheta']\n",
    "torque_folds = bmi['torque']\n",
    "time_folds = bmi['time']\n",
    "MI_folds = bmi['MI'] \n",
    "\n",
    "# Create tuples of MI, theta, dtheta, torque and time\n",
    "alldata_folds = zip(MI_folds, theta_folds, dtheta_folds, torque_folds, time_folds)\n",
    "\n",
    "nfolds = len(MI_folds)\n",
    "nfolds"
   ]
  },
  {
   "cell_type": "markdown",
   "metadata": {
    "id": "P47VNrcjd_u_"
   },
   "source": [
    "# REGULARIZED REGRESSION"
   ]
  },
  {
   "cell_type": "code",
   "execution_count": null,
   "metadata": {
    "id": "8Fr7Oh_ed_vA"
   },
   "outputs": [],
   "source": [
    "\"\"\" TODO\n",
    "Evaluate the training performance of an already trained model\n",
    "\"\"\"\n",
    "def mse_rmse(trues, preds):\n",
    "    '''\n",
    "    Compute MSE and rMSE for each column separately.\n",
    "    '''\n",
    "    mse = np.sum(np.square(trues - preds), axis=0) / trues.shape[0]\n",
    "    rmse = np.sqrt(mse)\n",
    "    return mse, rmse\n",
    "\n",
    "def predict_score_eval(model, X, y):\n",
    "    '''\n",
    "    Compute the model predictions and cooresponding scores.\n",
    "    PARAMS:\n",
    "        X: feature data\n",
    "        y: cooresponding output\n",
    "    RETURNS:\n",
    "        mse: mean squared error for each column\n",
    "        rmse: rMSE for each column\n",
    "        score: score computed by the models score() method\n",
    "        preds: predictions of the model from X\n",
    "    '''\n",
    "    # TODO: place implementation from HW4 here\n",
    "    \n",
    "    return mse, rmse, score, preds\n",
    "\n",
    "\n",
    "\"\"\"\n",
    "Create scoring function object for gridsearch\n",
    "\n",
    "This represents a more general way of creating a scoring mechanism than\n",
    "what was discussed in the lectures.\n",
    "\n",
    "GridSearchCV: https://scikit-learn.org/stable/modules/generated/sklearn.model_selection.GridSearchCV.html\n",
    "make_scorer: https://scikit-learn.org/stable/modules/generated/sklearn.metrics.make_scorer.html\n",
    "\n",
    "\"\"\"\n",
    "def rmse_scorer(trues, preds):\n",
    "    '''\n",
    "    Compute rMSE\n",
    "    '''\n",
    "    _, rmse = mse_rmse(trues, preds)\n",
    "    return rmse \n",
    "\n"
   ]
  },
  {
   "cell_type": "code",
   "execution_count": null,
   "metadata": {
    "id": "CorWhrW2d_vC"
   },
   "outputs": [],
   "source": [
    "def get_data_set(data, folds):\n",
    "    '''\n",
    "    For the data provided, extract only the specified folds and concatenate them together\n",
    "    \n",
    "    :param data: Python list of numpy matrices (one list element per fold)\n",
    "    :param folds: Python list of folds to extract\n",
    "    '''\n",
    "    # For each field in data, extract only the specified folds\n",
    "    output = [np.concatenate([d[f] for f in folds]) for d in data]\n",
    "    \n",
    "    # Convert the list to a tuple\n",
    "    return tuple(output)"
   ]
  },
  {
   "cell_type": "code",
   "execution_count": null,
   "metadata": {
    "id": "Y1Kq-sQqyTJX"
   },
   "outputs": [],
   "source": [
    "\"\"\" PROVIDED\n",
    "Construct training set to obtain best model and testing set for \n",
    "evaluation of that one model. The model will focus on predicting \n",
    "the shoulder torque.\n",
    "\"\"\"\n",
    "# Extract fold indices for the training and testing sets\n",
    "trainset_fold_inds = [3] \n",
    "validationset_fold_inds = [12, 13] \n",
    "testset_fold_inds = [14, 15] \n",
    "\n",
    "# Combine the folds into singular numpy arrays\n",
    "\n",
    "# Training set\n",
    "Xtrain, ytrain, time = get_data_set([MI_folds, torque_folds, time_folds],\n",
    "                          trainset_fold_inds)\n",
    "ytrain = np.reshape(ytrain[:,0], newshape=(-1,))\n",
    "\n",
    "# Validation set\n",
    "Xval, yval, timeval = get_data_set([MI_folds, torque_folds, time_folds],\n",
    "                          validationset_fold_inds)\n",
    "yval = np.reshape(yval[:,0], newshape=(-1,))\n",
    "\n",
    "\n",
    "# Testing set\n",
    "Xtest, ytest, timetest = get_data_set([MI_folds, torque_folds, time_folds],\n",
    "                          testset_fold_inds)\n",
    "ytest = np.reshape(ytest[:,0], newshape=(-1,))\n"
   ]
  },
  {
   "cell_type": "code",
   "execution_count": null,
   "metadata": {
    "colab": {
     "base_uri": "https://localhost:8080/"
    },
    "id": "cLhqLiZ_d_vE",
    "outputId": "b50fc2c2-d6e1-41db-87d4-94f83c944f39"
   },
   "outputs": [],
   "source": [
    "Xtrain.shape, ytrain.shape, Xval.shape, yval.shape, Xtest.shape, ytest.shape"
   ]
  },
  {
   "cell_type": "markdown",
   "metadata": {
    "id": "xI3Y7nR6d_vF"
   },
   "source": [
    "## Linear Model"
   ]
  },
  {
   "cell_type": "code",
   "execution_count": null,
   "metadata": {
    "colab": {
     "base_uri": "https://localhost:8080/"
    },
    "id": "5Ssdzw5kd_vF",
    "outputId": "1920656f-cf41-44fa-d663-ac7639895d30"
   },
   "outputs": [],
   "source": [
    "\"\"\" TODO\n",
    "Construct and train a linear model using the training set.\n",
    "Display the Training rmse. You can use the rmse_scorer for this.\n",
    "\"\"\"\n",
    "# Create and train the model\n",
    "# model_lnr = # TODO\n",
    "\n",
    "# Show train rmse\n",
    "# TODO\n",
    "rmse_scorer(ytrain, model_lnr.predict(Xtrain))"
   ]
  },
  {
   "cell_type": "code",
   "execution_count": null,
   "metadata": {
    "colab": {
     "base_uri": "https://localhost:8080/"
    },
    "id": "-fpDC8qod_vH",
    "outputId": "bf87953b-e036-41e7-9896-d6532ebad5ba"
   },
   "outputs": [],
   "source": [
    "# TODO\n",
    "# Compute the linear model predictions and display the rmse on the test data\n",
    "preds_lnr = # TODO\n"
   ]
  },
  {
   "cell_type": "markdown",
   "metadata": {
    "id": "MKM9EL5zd_vH"
   },
   "source": [
    "## Ridge Regression"
   ]
  },
  {
   "cell_type": "code",
   "execution_count": null,
   "metadata": {
    "colab": {
     "base_uri": "https://localhost:8080/"
    },
    "id": "34TXGqT1yTJY",
    "outputId": "bc707756-d613-492b-dd69-d7639c7ac4a9"
   },
   "outputs": [],
   "source": [
    "# TODO\n",
    "\n",
    "# Create a Ridge Regression model\n",
    "ridge = #TODO\n",
    "\n",
    "# A set of alpha parameter values to try \n",
    "#  These are factors of 10 from 10^0 to 10^6 spaced exponentially \n",
    "\n",
    "alphas = np.logspace(0, 6, base=10, num=20, endpoint=True)\n",
    "alphas"
   ]
  },
  {
   "cell_type": "code",
   "execution_count": null,
   "metadata": {
    "id": "Djo9KVphyTJY"
   },
   "outputs": [],
   "source": [
    "# TODO\n",
    "\n",
    "def hyper_loop(model, alphas, Xtrain, ytrain, Xval, yval):\n",
    "    '''\n",
    "    Loop over all possible alphas:\n",
    "    - Set the model.alpha parameter to the specific alpha\n",
    "    - Fit model to Xtrain/ytrain\n",
    "    - Compute rmse for Xtrain/ytrain and Xval/yval & log these in python arrays (use rmse_scorer())\n",
    "    Return the list of rmse's for both the training and validation sets\n",
    "    \n",
    "    :param model: ML model to fit\n",
    "    :param alphas: List of alpha hyper-parameter values to try\n",
    "    :param Xtrain: training set inputs\n",
    "    :param ytrain: training set desired output\n",
    "    :param Xval: validation set inputs\n",
    "    :param yval: validation set desired output\n",
    "    '''\n",
    "    rmse_train = []\n",
    "    rmse_valid = []\n",
    "    # Loop over all possible alphas\n",
    "    for a in alphas:\n",
    "        # Set model.alpha\n",
    "        # model.alpha = # TODO\n",
    "        \n",
    "        # Fit the model to the training set\n",
    "        # TODO\n",
    "\n",
    "        # Log rmse for both training and validation sets\n",
    "        rmse_train.append(rmse_scorer(#TODO))\n",
    "        rmse_valid.append(rmse_scorer(#TODO))\n",
    "        \n",
    "    # Return training and validation performance lists\n",
    "    return rmse_train, rmse_valid"
   ]
  },
  {
   "cell_type": "code",
   "execution_count": null,
   "metadata": {
    "colab": {
     "base_uri": "https://localhost:8080/"
    },
    "id": "OQX-tzcQyTJZ",
    "outputId": "58042a44-ba4e-49ce-f77d-6850fbf1ba76"
   },
   "outputs": [],
   "source": [
    "# TODO\n",
    "# Call hyper_loop with the ridge regression model\n",
    "rmse_train, rmse_valid = # TODO\n",
    "\n",
    "print(f\"rmse train: {rmse_train}\")\n",
    "print(f\"rmse valid: {rmse_valid}\")"
   ]
  },
  {
   "cell_type": "code",
   "execution_count": null,
   "metadata": {
    "colab": {
     "base_uri": "https://localhost:8080/",
     "height": 417
    },
    "id": "pGqTjq6xyTJZ",
    "outputId": "557a2367-007f-4dec-e7b5-f0e130b01720"
   },
   "outputs": [],
   "source": [
    "# TODO\n",
    "# Plot training and validation rmse as a function of alpha\n",
    "plt.figure()\n",
    "\n",
    "# TODO\n",
    "\n",
    "plt.xscale('log')\n",
    "plt.xlabel(r'$\\alpha$')\n",
    "plt.ylabel('RMSE')\n",
    "plt.legend(['Train', 'Validation'])"
   ]
  },
  {
   "cell_type": "code",
   "execution_count": null,
   "metadata": {
    "colab": {
     "base_uri": "https://localhost:8080/"
    },
    "id": "R4Lahp0AyTJZ",
    "outputId": "a993beaa-b5b3-405a-9afa-f666760fd167"
   },
   "outputs": [],
   "source": [
    "# TODO\n",
    "# Identify the index in rmse_valid that is smallest\n",
    "idx = # TODO\n",
    "\n",
    "\n",
    "idx"
   ]
  },
  {
   "cell_type": "code",
   "execution_count": null,
   "metadata": {
    "colab": {
     "base_uri": "https://localhost:8080/"
    },
    "id": "Xr9w9DLsyTJZ",
    "outputId": "7c74b2dc-ad54-4ece-bee9-13252f2ffa68"
   },
   "outputs": [],
   "source": [
    "# TODO\n",
    "# Show the alpha that corresponds to the best alpha\n",
    "# TODO\n"
   ]
  },
  {
   "cell_type": "code",
   "execution_count": null,
   "metadata": {
    "colab": {
     "base_uri": "https://localhost:8080/"
    },
    "id": "abUFs9MUyTJa",
    "outputId": "251af87f-f1ab-4bf5-dadf-50f2a7168211"
   },
   "outputs": [],
   "source": [
    "# TODO\n",
    "# Set the ridge model alpha to the best value & refit the training set data\n",
    "# TODO\n",
    "ridge.alpha = # TODO"
   ]
  },
  {
   "cell_type": "code",
   "execution_count": null,
   "metadata": {
    "colab": {
     "base_uri": "https://localhost:8080/"
    },
    "id": "vGdkNfb8yTJa",
    "outputId": "d4bd6f20-241c-44c1-c306-11e80f553c43"
   },
   "outputs": [],
   "source": [
    "# TODO\n",
    "# Compute the predictions for the training data\n",
    "predtrain = #TODO\n",
    "\n",
    "# Report the rmse for the training data\n",
    "# TODO\n"
   ]
  },
  {
   "cell_type": "code",
   "execution_count": null,
   "metadata": {
    "colab": {
     "base_uri": "https://localhost:8080/"
    },
    "id": "3YKbSTELyTJa",
    "outputId": "9a8220b5-ba75-49a1-f7cc-bda56c152165"
   },
   "outputs": [],
   "source": [
    "# TODO\n",
    "# Compute the predictions for the test data\n",
    "\n",
    "predtest = # TODO\n",
    "\n",
    "# Report the rmse for the test data\n",
    "# TODO\n"
   ]
  },
  {
   "cell_type": "code",
   "execution_count": null,
   "metadata": {
    "colab": {
     "base_uri": "https://localhost:8080/",
     "height": 399
    },
    "id": "ALvJdcLDyTJb",
    "outputId": "7f4b18e3-e959-4e33-d6da-7b4f733ab584"
   },
   "outputs": [],
   "source": [
    "# TODO\n",
    "# Plot: ground truth, best Ridge predictions and the Linear model predictions for \n",
    "#  time period 2102 to 2108\n",
    "\n",
    "plt.figure()\n",
    "# TODO\n",
    "\n",
    "plt.legend(['Ground Truth', 'Ridge (best)', 'LMS'])\n",
    "plt.xlim((2102, 2108))"
   ]
  },
  {
   "cell_type": "code",
   "execution_count": null,
   "metadata": {
    "colab": {
     "base_uri": "https://localhost:8080/",
     "height": 785
    },
    "id": "eCMCe_UeyTJb",
    "outputId": "9d6be987-1ff7-4605-ee8d-0188fb9bc2ac"
   },
   "outputs": [],
   "source": [
    "\"\"\" TODO\n",
    "Generate a plot that contains two overlapping histograms:\n",
    "- Coefficients discovered by LinearRegression\n",
    "- Coefficients discovered by the best Ridge model\n",
    "\n",
    "Hint: the coefficients for the model are found in their coef_ property\n",
    "\"\"\"\n",
    "nbins = 50\n",
    "start = -0.05\n",
    "end = 0.05\n",
    "incr = (end - start) / nbins2\n",
    "bins = np.arange(start, end, incr)\n",
    "\n",
    "# Figure 1: use hist() with bins=nbins.  For each histogram,\n",
    "#  this will separately determine the bins based on the data\n",
    "plt.figure()\n",
    "#TODO\n",
    "plt.title(\"Model Coefficients\")\n",
    "plt.legend()\n",
    "\n",
    "# Figure 2: use bins=bins.  This will use the exact same bins for\n",
    "#   both histograms\n",
    "plt.figure()\n",
    "#TODO\n",
    "plt.title(\"Model Coefficients\")\n",
    "plt.legend()\n"
   ]
  },
  {
   "cell_type": "markdown",
   "metadata": {
    "id": "4KNacF2tyTJb"
   },
   "source": [
    "## Reflection\n",
    "Respond to each of the following questions:\n",
    "* How does the RMSE compare for both the training set and proper test set for the Linear model and the best Ridge Regression model?\n",
    "* How do the timeseries predictions compare for the two models and ground truth?\n",
    "* Explain the difference in coefficient distributions between these two models."
   ]
  },
  {
   "cell_type": "markdown",
   "metadata": {
    "id": "JJ1fBF8NyTJb"
   },
   "source": [
    "## Answers\n",
    "TODO \n",
    "* \n"
   ]
  },
  {
   "cell_type": "code",
   "execution_count": null,
   "metadata": {},
   "outputs": [],
   "source": []
  }
 ],
 "metadata": {
  "colab": {
   "collapsed_sections": [],
   "provenance": []
  },
  "interpreter": {
   "hash": "e7370f93d1d0cde622a1f8e1c04877d8463912d04d973331ad4851f04de6915a"
  },
  "kernelspec": {
   "display_name": "Python 3 (ipykernel)",
   "language": "python",
   "name": "python3"
  },
  "language_info": {
   "codemirror_mode": {
    "name": "ipython",
    "version": 3
   },
   "file_extension": ".py",
   "mimetype": "text/x-python",
   "name": "python",
   "nbconvert_exporter": "python",
   "pygments_lexer": "ipython3",
   "version": "3.10.6"
  },
  "toc": {
   "base_numbering": 1,
   "nav_menu": {},
   "number_sections": true,
   "sideBar": true,
   "skip_h1_title": false,
   "title_cell": "Table of Contents",
   "title_sidebar": "Contents",
   "toc_cell": false,
   "toc_position": {},
   "toc_section_display": true,
   "toc_window_display": false
  }
 },
 "nbformat": 4,
 "nbformat_minor": 4
}
